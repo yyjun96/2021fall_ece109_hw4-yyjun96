{
 "cells": [
  {
   "cell_type": "markdown",
   "metadata": {},
   "source": [
    "# Assignment 4: Linear Regression\n",
    "\n",
    "이번 과제부터, 여러분은 파이썬을 사용하여 데이터 분석과 머신러닝과 관련된 알고리즘을 구현할 것입니다.\n",
    "\n",
    "이번 4번째 과제의 목표는 다음과 같습니다.\n",
    "- 파이썬을 사용하여 데이터 처리\n",
    "- 파이썬을 사용하여 그래프 그리기\n",
    "- Linear regression 구현\n"
   ]
  },
  {
   "cell_type": "markdown",
   "metadata": {},
   "source": [
    "## Part 1: 파이썬을 사용한 데이터 처리\n",
    "\n",
    "데이터 분석의 시작은 외부에서 생성된 데이터를 우리가 사용할 프레임워크, 파이썬에 불러오는 것입니다. 데이터를 사용하는데 앞서 후에 데이터를 사용하기 쉽게 생성 단계에서 정규화된 포멧으로 데이터를 저장하는 것이 좋습니다. 임의로 데이터를 생성한다면, 후 처리 과정에서 데이터를 읽기 위해 별도의 작업이 필요하게 됩니다.\n",
    "\n",
    "데이터를 저장하기 위해 일반적으로 사용하는 포멧은 다음과 같습니다.\n",
    "\n",
    "|type|name| desc |\n",
    "|:---|:---:| :---: |\n",
    "| text | CSV | comma-separated value |\n",
    "| text | JSON | Javascript object notation |\n",
    "| binary | HDF5 | Hierarchical data format |\n",
    "| binary | excel | excel format |\n",
    "\n",
    "이외에도 다양한 포멧들이 있습니다. 다양한 포멧들에 대해 궁금하다면 [여기](https://pandas.pydata.org/pandas-docs/stable/user_guide/io.html)를 참조하세요.\n",
    "\n",
    "이번 과제에서는 CSV(comma-seperated value) 포멧을 사용할 것입니다. CSV 포멧은 텍스트 형태로 데이터를 저장할 때 흔히 사용합니다. CSV 데이터는 표 데이터를 텍스트로 표현한 것이며, 표의 각 행과 열은 각각 줄바꿈과 ','로 표현합니다.\n",
    "일반적으로 이러한 표 데이터에서 각 행은 관측한 하나의 이벤트를 나타내며, 각 열은 관측 대상의 여러 특성을 의미합니다.\n",
    "\n",
    "| Name | Codename |\tCores |\tClock |\tSocket | Process | L3 Cache | TDP | Released |\n",
    "|:---:|:---:|:---:|:---:|:---:|:---:|:---:|:---:|:---:|\n",
    "| Ryzen 5 5600X | Vermeer | 6 / 12 | 3.7 — 4.6 GHz | Socket AM4 | 7 nm | 32MB | 65 W | Nov 5th, 2020 |\n",
    "| Ryzen 7 5800X | Vermeer | 8 / 16 | 3.8 — 4.7 GHz | Socket AM4 | 7 nm | 32MB | 105 W | Nov 5th, 2020 |\n",
    "| Ryzen 9 5900X | Vermeer | 12 / 24 | 3.7 — 4.8 GHz | Socket AM4 | 7 nm | 64MB | 105 W | Nov 5th, 2020 |\n",
    "| Ryzen 9 5950X | Vermeer | 16 / 32 | 3.4 — 4.9 GHz | Socket AM4 | 7 nm | 64MB | 105 W | Nov 5th, 2020 |\n",
    "\n",
    "위의 표 데이터를 CSV로 표현하면 다음과 같습니다.\n",
    "```\n",
    "Name,Codename,Cores,Clock,Socket,Process,L3 Cache,TDP,Released\n",
    "Ryzen 5 5600X,Vermeer,6 / 12,3.7 — 4.6 GHz,Socket AM4,7 nm,32MB,65 W,Nov 5th, 2020\n",
    "Ryzen 7 5800X,Vermeer,8 / 16,3.8 — 4.7 GHz,Socket AM4,7 nm,32MB,105 W,Nov 5th, 2020\n",
    "Ryzen 9 5900X,Vermeer,12 / 24,3.7 — 4.8 GHz,Socket AM4,7 nm,64MB,105 W,Nov 5th, 2020\n",
    "Ryzen 9 5950X,Vermeer,16 / 32,3.4 — 4.9 GHz,Socket AM4,7 nm,64MB,105 W,Nov 5th, 2020\n",
    "```\n",
    "\n",
    "이제 주어진 csv 파일을 읽는 방법을 배워봅시다.\n",
    "python으로 csv 파일을 다루는 방법은, 텍스트 파일을 읽어서 파싱하는 방법부터, numpy, pandas와 같은 라이브러리를 사용하는 방법 등 다양하게 있습니다. 여기에서는 numpy를 사용하여 파일을 읽는 방법을 다루겠습니다.\n",
    "\n",
    "다음은 numpy에서 파일을 다루기 위한 함수입니다. _\\*txt_ 함수명이 _txt_ 로 끝나는 함수들은 텍스트 파일을 다루기 위한 함수입니다.\n",
    "- np.save(filename, array)\n",
    "- np.load(filename)\n",
    "- np.savetxt(filename, array)\n",
    "- np.loadtxt(filename)\n",
    "\n",
    "np.savetxt() 함수를 사용하여 csv 파일을 만들기 위해서는 delimiter인자를 ','로 변형해야 합니다.\n",
    "\n",
    "```python\n",
    "import numpy as np\n",
    "a = np.array([[1, 2],\n",
    "             [3, 4]])\n",
    "np.savetxt('test_array.csv', a, delimiter=',')\n",
    "```\n",
    "\n",
    "## Question 1\n",
    "다음은 위의 test_array.csv 파일을 생성하기 위한 코드입니다. 저장한 test_array.csv 파일의 데이터를 불러와 변수 b에 저장하세요.\n",
    "np.loadtxt에 대한 도움말은 np.loadtxt?로 확인할 수 있습니다."
   ]
  },
  {
   "cell_type": "code",
   "execution_count": 1,
   "metadata": {},
   "outputs": [
    {
     "ename": "NameError",
     "evalue": "name 'b' is not defined",
     "output_type": "error",
     "traceback": [
      "\u001b[0;31m---------------------------------------------------------------------------\u001b[0m",
      "\u001b[0;31mNameError\u001b[0m                                 Traceback (most recent call last)",
      "\u001b[0;32m<ipython-input-1-fae4d882e9a8>\u001b[0m in \u001b[0;36m<module>\u001b[0;34m\u001b[0m\n\u001b[1;32m      7\u001b[0m \u001b[0;31m# Put some code here\u001b[0m\u001b[0;34m\u001b[0m\u001b[0;34m\u001b[0m\u001b[0;34m\u001b[0m\u001b[0m\n\u001b[1;32m      8\u001b[0m \u001b[0;34m\u001b[0m\u001b[0m\n\u001b[0;32m----> 9\u001b[0;31m \u001b[0mprint\u001b[0m\u001b[0;34m(\u001b[0m\u001b[0mb\u001b[0m\u001b[0;34m)\u001b[0m\u001b[0;34m\u001b[0m\u001b[0;34m\u001b[0m\u001b[0m\n\u001b[0m",
      "\u001b[0;31mNameError\u001b[0m: name 'b' is not defined"
     ]
    }
   ],
   "source": [
    "import numpy as np\n",
    "a = np.array([[1, 2],\n",
    "             [3, 4]])\n",
    "np.savetxt('test_array.csv', a, delimiter=',')\n",
    "\n",
    "# Implement a code to load \"test_array.csv\" to varaible 'b'\n",
    "# Put some code here\n",
    "\n",
    "print(b)"
   ]
  },
  {
   "cell_type": "markdown",
   "metadata": {},
   "source": [
    "## Question 2\n",
    "\n",
    "과제의 data폴더에는 ex1data.txt파일이 있습니다. ex1data.txt 파일을 불러와 *train_data* 변수에 저장하세요."
   ]
  },
  {
   "cell_type": "code",
   "execution_count": null,
   "metadata": {},
   "outputs": [],
   "source": [
    "train_data = # Put some code here"
   ]
  },
  {
   "cell_type": "markdown",
   "metadata": {},
   "source": [
    "## Part 2: 그래프 그리기\n",
    "\n",
    "모델 만들기에 앞서 데이터의 경향성을 파악하는 것이 필요합니다. 데이터 간의 관계를 알고 있다면, 그에 따른 적합한 모델을 선택할 수 있습니다.\n",
    "데이터의 경향성을 분석하기 위한 일차적 방법은 데이터를 그래프고 그려보는 것입니다. 파이썬을 활용하여 그래프를 그릴 때는 matplotlib이라는 라이브러리를 사용합니다.\n",
    "\n",
    "**matplotlib**은 데이터를 차트나 플롯으로 표현해주는 데이터 시각화 라이브러리로 John D. Hunter에 의해 처음 개발되었습니다. matplotlib 라이브러리를 사용하여 막대그래프(barchart) 같은 단순한 그래프부터 논문이나 책에 들어갈 높은 수준의 그래프를 만들 수 있습니다.\n",
    "\n",
    "<img src=\"figures/plot1.png\">\n",
    "\n",
    "\n",
    "**Question 2**에서 *train_data*를 불러왔습니다. *train_data*의 데이터는 도시의 인구 수에 따른 푸드트럭의 매출을 나타내며, 각 열은 <인구 수, 매출>을 나타냅니다. *train_data*를 다음과 같이 그래프로 그려봅시다.\n",
    "\n",
    "<img src=\"figures/plot2.png\">\n",
    "\n",
    "matplotlib을 사용하기 위해서는 우선 아래와 같이 matplotlib 패키지를 불러와야 합니다.\n",
    "```python\n",
    "    import matplotlib\n",
    "    import matplotlib.pyplot as plt # 그래프 그릴 때 사용할 패키지 파일 plt로 별칭을 달아 사용\n",
    "```\n",
    "위의 패키지를 포함하는 코드는 matplotlib 사용에 있어 관용구 같이 사용되며, 대부분의 matplotlib을 사용한 코드에서 볼 수 있습니다. 그래프를 쉽게 그리기 위한 다양한 함수 들을 제공하는 모듈로 plt라는 이름으로 사용합니다.\n",
    "\n",
    "위와 같은 그래프를 scatter 차트라고 부르며, matplotlib에서 해당 그래프는 plt.scatter 함수를 사용하여 그릴 수 있습니다.\n",
    "아래의 코드를 참조하세요.\n",
    "\n",
    "```python\n",
    "    x = train_data[:, 0] # 인구수\n",
    "    y = train_data[:, 1] # 매출\n",
    "    plt.scatter(x, y, marker='x')  # Scatter 차트, 첫번째 인자는 x축에 해당하는 값을 의미, y축에 해당하는 값을 의미\n",
    "                                   # marker는 데이터를 차트에서 X로 표현\n",
    "    plt.ylabel('Profit in $10,000s') # y축 레이블 설정\n",
    "    plt.xlabel('Population of City in 10,000s') # x축 레이블 설정\n",
    "    plt.show()\n",
    "```\n",
    "\n",
    "## Question 3\n",
    "\n",
    "x, y값을 입력받아 위의 그래프를 그리는 함수를 완성하시오."
   ]
  },
  {
   "cell_type": "code",
   "execution_count": null,
   "metadata": {},
   "outputs": [],
   "source": [
    "def plot_data(x, y, x_title=\"\", y_title=\"\"):\n",
    "    # Put some code here"
   ]
  },
  {
   "cell_type": "markdown",
   "metadata": {},
   "source": [
    "## Part 3: Linear Regression\n",
    "위의 Part 2에서 *train_data*의 데이터를 살펴 보았습니다. \n",
    "그래프를 확인해보면 인구 수와 매출에 따라 선형적 관계가 있다는 것을 눈치챌 수 있습니다.\n",
    "\n",
    "인구 수에 따른 매출을 예측하기 위해 Linear Regression을 적용하여 예측 모델을 만들어 봅시다.\n",
    "\n",
    "*train_data*의 feature는 인구 수, 하나입니다. 따라서 Linear Regression 모델은 다음과 같습니다.\n",
    "\n",
    "$$H_\\theta(x) = \\theta_0 + \\theta_1x $$\n",
    "\n",
    "이번 과제에서는 초기 theta를 0으로 하여 시작하겠습니다.\n",
    "이후 구현에 필요한 입력 데이터 X, 결과 y는 아래의 코드에 정의되어 있습니다.\n",
    "np.dot 함수를 사용하여 모델 계산 하는 것과 그래프 그리는 함수를 보시고, 이후 문제에 변형하여 사용해보세요."
   ]
  },
  {
   "cell_type": "code",
   "execution_count": null,
   "metadata": {},
   "outputs": [],
   "source": [
    "# Plotting header\n",
    "import matplotlib\n",
    "import matplotlib.pyplot as plt\n",
    "\n",
    "# 이 코드는 변수를 초기화한 코드 입니다\n",
    "theta = np.zeros((2,1))\n",
    "x = train_data[:, 0, np.newaxis]\n",
    "y = train_data[:, 1, np.newaxis]\n",
    "\n",
    "# insert x_0 column to x\n",
    "x_0 = np.ones((x.shape[0], 1))\n",
    "X = np.concatenate((x_0, x), axis=1)\n",
    "\n",
    "plt.scatter(x, y, marker='x')  # Scatter 차트, 첫번째 인자는 x축에 해당하는 값을 의미, y축에 해당하는 값을 의미\n",
    "                            # marker는 데이터를 차트에서 X로 표현\n",
    "plt.plot(x, np.dot(X, theta), 'r')\n",
    "plt.ylabel('Profit in $10,000s') # y축 레이블 설정\n",
    "plt.xlabel('Population of City in 10,000s') # x축 레이블 설정\n",
    "plt.show()"
   ]
  },
  {
   "cell_type": "markdown",
   "metadata": {},
   "source": [
    "### 3.1 Cost Function\n",
    "\n",
    "만들고자 하는 모델의 정확성을 파악하기 위해서는 모델의 실제 예측값과 실제값과의 차이, 에러를 알아야 합니다.\n",
    "예측값과 실제값과의 차이를 정의하는 방법은 다양한데, 그 중에서 많이 사용하는 euclidian distance (L2 norm)를 일반적으로 사용합니다.\n",
    "\n",
    "Euclidian distance $||x - y||_2 = \\sqrt{x - y)^2}$\n",
    "\n",
    "모델 $H_\\theta(x)$의 cost function $J(\\theta)$는 각 데이터 셋에 모델 에러의 평균으로 정의합니다.\n",
    "계산의 편의성을 위해, euclidian distance 대신 eulcidian distance의 제곱을 사용하였고, 미분 계산의 편의성을 위해 1/2를 곱하여 정의합니다.\n",
    "\n",
    "$$J(\\theta) = {1 \\over 2m} \\sum_{i=1}^m(H_\\theta(x^{(i)}) - y^{(i)})^2$$\n",
    "\n",
    "\n",
    "## Question 4. Cost function을 정의하세요."
   ]
  },
  {
   "cell_type": "code",
   "execution_count": null,
   "metadata": {},
   "outputs": [],
   "source": [
    "def cost_function(theta, x, y):\n",
    "    # Implement cost function\n",
    "    # You need to return 'scalar value' as result, not array e.g.) 123\n",
    "    return cost"
   ]
  },
  {
   "cell_type": "markdown",
   "metadata": {},
   "source": [
    "### 3.2 Gradient Descent\n",
    "\n",
    "모델의 파라미터 $\\theta$를 최적화하기 위해서 Gradient descent 알고리즘을 사용해봅시다.\n",
    "파라미터 업데이트 식은 다음과 같습니다.\n",
    "\n",
    "$$\\theta_j := \\theta_j - {\\alpha \\over m}\\sum_{i=1}^m(H_\\theta(x^{(i)}) - y^{(i)}) x^{(i)}_j$$\n",
    "\n",
    "입력데이터가 m개일 때, $x^{(i)}, y^{(i)}$는 각각 i번째 데이터의 feature와 결과 label을 의미하며, $\\theta_j, x^{(i)}_j$는 j번째 feature에 해당하는 파라미터와 x의 값입니다. $x_0$은 1입니다.\n",
    "\n",
    "\n",
    "## Question 4. Gradient Descent 알고리즘을 구현하여 theta를 구하세요."
   ]
  },
  {
   "cell_type": "code",
   "execution_count": null,
   "metadata": {
    "scrolled": false
   },
   "outputs": [],
   "source": [
    "theta = np.zeros((2,1))\n",
    "def update_func(theta, x, y, alpha=0.01): \n",
    "    # Put some code here\n",
    "    return new_theta\n",
    "\n",
    "niter = 1500\n",
    "for i in range(niter):\n",
    "    new_theta = update_func(theta, X, y, alpha=0.01)\n",
    "    theta = new_theta\n",
    "\n",
    "print(theta)\n",
    "print('Expected theta [-3.6303, 1.1664]')'"
   ]
  },
  {
   "cell_type": "markdown",
   "metadata": {},
   "source": [
    "## Question 5. Graident Descent 알고리즘으로 구한 모델을 아래와 같이 기존 데이터와 함께 그려, 모델이 적합한지 확인하여라\n",
    "\n",
    "<img src='figures/plot3.png'>"
   ]
  },
  {
   "cell_type": "code",
   "execution_count": null,
   "metadata": {},
   "outputs": [],
   "source": [
    "# Put code to draw the above figure"
   ]
  },
  {
   "cell_type": "markdown",
   "metadata": {},
   "source": [
    "## Question 6. 위의 graident descent 알고리즘을 사용할 때, 매 iteration에서 cost function의 변화를 그래프로 표현하세요."
   ]
  },
  {
   "cell_type": "code",
   "execution_count": null,
   "metadata": {},
   "outputs": [],
   "source": [
    "# Put code to draw the above figure"
   ]
  },
  {
   "cell_type": "markdown",
   "metadata": {},
   "source": [
    "### 3.3 Cost function plotting\n",
    "\n",
    "Cost function이 어떠한 모습인지 그래프를 통해 확인해 봅시다. 첫번째 그림은 cost function $J(\\theta)$를 3d surface로 표현한 것입니다. $J(\\theta)$는 보울 모양으로 global minima를 가지고 있습니다. 이해하기 쉽게 contour 그래프를 그려서 우리가 찾은 $\\theta$값이 어디에 위치해 있는지 봅시다. 두번째 그림은 contour로 표현한 $J(\\theta)$입니다. X는 학습을 통해 찾은 $\\theta$입니다. o은 학습 과정 동안 theta의 위치를 나타냅니다. 매 학습마다, 등고선의 접선 방향으로 조금씩 전진하여 중심의 X로 향하는 것을 확인할 수 있습니다.\n",
    "\n",
    "그래프 그리는 코드를 확인하고, 어떻게 아래와 같은 그래프를 그리는지 숙지하세요.\n",
    "- 3D surface: plt.plot_surface\n",
    "- contour: plt.contour"
   ]
  },
  {
   "cell_type": "code",
   "execution_count": null,
   "metadata": {
    "scrolled": false
   },
   "outputs": [],
   "source": [
    "# This code modified from \"https://github.com/dibgerge/ml-coursera-python-assignments/blob/master/Exercise1/exercise1.ipynb\"\n",
    "# grid over which we will calculate J\n",
    "import matplotlib.pyplot as plt\n",
    "import numpy as np\n",
    "\n",
    "theta0_vals = np.linspace(-10, 10, 100)\n",
    "theta1_vals = np.linspace(-1, 3, 100)\n",
    "\n",
    "# initialize J_vals to a matrix of 0's\n",
    "J_vals = np.zeros((theta0_vals.shape[0], theta1_vals.shape[0]))\n",
    "\n",
    "# Fill out J_vals\n",
    "for i, theta0 in enumerate(theta0_vals):\n",
    "    for j, theta1 in enumerate(theta1_vals):\n",
    "        theta_ = np.array([[theta0, theta1]]).T                      \n",
    "        J_vals[i, j] = cost_function(theta_, X, y)\n",
    "\n",
    "# plot_surface 함수는 meshgrid를 사용하여, x, y 좌표를 만듭니다.\n",
    "# 좌표의 기술 방식이 y, x이기 때문에 x, y array index로 배열된 J_vals를 transpose해서 사용합니다.\n",
    "J_vals = J_vals.T\n",
    "\n",
    "# surface plot\n",
    "fig = pyplot.figure(figsize=(12, 5)) # 그림 크기 셋팅\n",
    "ax = fig.add_subplot(121, projection='3d') # \n",
    "\n",
    "ax.plot_surface(theta0_vals, theta1_vals, J_vals, cmap='viridis')\n",
    "plt.xlabel('theta0')\n",
    "plt.ylabel('theta1')\n",
    "plt.title('Surface')\n",
    "\n",
    "# contour plot\n",
    "# Plot J_vals as 15 contours spaced logarithmically between 0.01 and 100\n",
    "ax = plt.subplot(122)\n",
    "plt.contour(theta0_vals, theta1_vals, J_vals, linewidths=2, cmap='viridis', levels=np.logspace(-2, 3, 30))\n",
    "plt.xlabel('theta0')\n",
    "plt.ylabel('theta1')\n",
    "plt.plot(theta[0], theta[1], 'rx', ms=10, lw=2)\n",
    "plt.title('Contour, showing minimum')\n",
    "\n",
    "niter = 1500\n",
    "theta = np.zeros((2,1))\n",
    "for i in range(niter):\n",
    "    new_theta = update_func(theta, X, y, alpha=0.01)\n",
    "    theta = new_theta\n",
    "    plt.plot(theta[0], theta[1], 'ro', ms=1, lw=1)"
   ]
  },
  {
   "cell_type": "markdown",
   "metadata": {},
   "source": [
    "## Question 7. Learning rate $\\alpha$를 0.1로 하였을 때, cost function의 값이 어떻게 변화하는가? 그에 대한 이유는 무엇인가? \n",
    "위의 contour 그래프를 복사하여, learning rate alpha를 0.1로 하였을 때, 1~10 iteration 의 theta값을 표시하고, 질문에 대한 답을 해주세요."
   ]
  },
  {
   "cell_type": "markdown",
   "metadata": {},
   "source": [
    "### 3.4 Normal Equation\n",
    "\n",
    "Linear regression 문제는 gradient descent 대신 normal equation을 통해 한번에 최적의 theta를 구할 수 있다. 다음의 normal equation의 식이다.\n",
    "\n",
    "$$\\theta = (X^TX)^{-1}X^Ty$$\n",
    "\n",
    "## Question 8. Normal equation을 구현하라\n",
    "Hint\n",
    "- numpy.linalg.inv? [link](https://numpy.org/doc/stable/reference/generated/numpy.linalg.inv.html)\n",
    "- How to get transpose of A \n",
    "```python\n",
    "A = np.array([[1,2,3],[4,5,6]])\n",
    "A_T = A.T\n",
    "```"
   ]
  },
  {
   "cell_type": "code",
   "execution_count": null,
   "metadata": {},
   "outputs": [],
   "source": [
    "def compute_normal_eq(x, y):\n",
    "    theta = \n",
    "    # Need to implement this\n",
    "    return theta\n",
    "\n",
    "print(compute_normal_eq(X, y))"
   ]
  },
  {
   "cell_type": "markdown",
   "metadata": {},
   "source": [
    "## Question 9. Normal equation과 gradient descent의 실행시간?\n",
    "normal equation과 graident descent 알고리즘에는 각각의 장단점이 있습니다.\n",
    "\n",
    "| Gradient Descent | Normal Equation |\n",
    "| :---: | :---: |\n",
    "| (-) Learning rate를 골라야 함 | (+) Learning rate 없음 |\n",
    "| (-) Iteration을 여러번 돌아야 함 | (+) Iteration 없음 |\n",
    "| (+) Feature가 많은 경우 빠름 | (-) feature가 많은 경우, compute (inverse 계산) 시간이 오래 걸림 |\n",
    "\n",
    "Feature 를 1, 10, 100, 1000으로 증가시킬 때 normal equation과, gradient descent operation의 연산 시간을 비교하세요.\n",
    "\n",
    "%time, %timeit함수를 활용하면 jupyter notebook에서 함수의 실행시간을 측정할 수 있습니다."
   ]
  },
  {
   "cell_type": "code",
   "execution_count": null,
   "metadata": {},
   "outputs": [],
   "source": [
    "n_features = 1\n",
    "m = 100\n",
    "X = np.random.random((100, n_features))\n",
    "y = np.random.random((100, n_features))\n",
    "\n",
    "def gradient_descent_iter(X, y):\n",
    "    # put some code here\n",
    "    n_iter = 1500\n",
    "    theta = np.zeros((2,1))\n",
    "    \n",
    "    for i in range(n_iter):\n",
    "        # Put some code here\n",
    "        \n",
    "    \n",
    "# Normal equation\n",
    "%time compute_normal_eq(X, y)\n",
    "\n",
    "%time gradient_descent_iter(X, y)"
   ]
  },
  {
   "cell_type": "markdown",
   "metadata": {},
   "source": [
    "# Question 10. Linear regression with multiple features\n",
    "\n",
    "지금까지 했던 코드들을 활용하여 feature가 하나가 아닌 여러 개인 경우에 대해 Linear regression을 사용하여 구해봅시다.\n",
    "주어진 데이터 ex1data2.txt는 수업 시간에 예시로 든 부동산 가격에 대한 데이터로 세 개의 열로 구성되어 있으며, \n",
    "첫번째 열은 면적, 두번째 열은 침실의 수, 마지막 열은 가격입니다. \n",
    "첫번째 열과 두번째 열을 feature로 사용하여 마지막 열 가격을 예측하는 모델을 만드세요.\n",
    "\n",
    "Hint: 이번 데이터는 Feature의 크기가 매우 상이하기 때문에, 학습의 효율성을 위해서 normalization을 해야 합니다. 수업 시간에 배운 \n",
    "feature normalizaion을 확용하여 feature들의 범위를 일정하게 만든 후 학습하세요.\n",
    "\n",
    "조건: 모든 파라미터 $\\theta$가 0일 때 cost와 모델의 예측 값을 출력하세요.\n",
    "조건: 학습 후, 파라미터, cost, 모델의 예측값을 출력하세요."
   ]
  },
  {
   "cell_type": "code",
   "execution_count": null,
   "metadata": {},
   "outputs": [],
   "source": [
    "def feature_normalize(x):\n",
    "    # Need to implement this\n",
    "    norm_x =\n",
    "    mu = \n",
    "    sigma = \n",
    "    \n",
    "    return norm_x, mu, sigma\n",
    "\n",
    "# Hypothesis에서 prediction 할 때, 새로운 데이터를 mu, sigma로 normalize한 후 사용해야 함."
   ]
  }
 ],
 "metadata": {
  "interpreter": {
   "hash": "bdacd7c60da5a2b553604fa6479d8a1983ce6c79efe111e048a450b0b110a56e"
  },
  "kernelspec": {
   "display_name": "Python 3.8.3 64-bit ('base': conda)",
   "name": "python3"
  },
  "language_info": {
   "codemirror_mode": {
    "name": "ipython",
    "version": 3
   },
   "file_extension": ".py",
   "mimetype": "text/x-python",
   "name": "python",
   "nbconvert_exporter": "python",
   "pygments_lexer": "ipython3",
   "version": "3.8.3"
  }
 },
 "nbformat": 4,
 "nbformat_minor": 4
}
